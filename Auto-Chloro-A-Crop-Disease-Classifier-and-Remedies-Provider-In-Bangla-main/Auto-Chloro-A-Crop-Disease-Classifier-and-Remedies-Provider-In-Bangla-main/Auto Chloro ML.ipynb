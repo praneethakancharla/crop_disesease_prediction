{
 "cells": [
  {
   "attachments": {
    "550c205e-04d0-4fdc-9e44-1b91844592d4_200x200.png": {
     "image/png": "[encoded data removed]"
    }
   },
   "cell_type": "markdown",
   "metadata": {},
   "source": [
    "![550c205e-04d0-4fdc-9e44-1b91844592d4_200x200.png](attachment:550c205e-04d0-4fdc-9e44-1b91844592d4_200x200.png)"
   ]
  },
  {
   "cell_type": "code",
   "execution_count": 2,
   "metadata": {},
   "outputs": [],
   "source": [
    "import numpy as np\n",
    "import matplotlib.pyplot as plt\n",
    "import os\n",
    "import tensorflow as tf\n",
    "from tensorflow.keras.preprocessing.image import ImageDataGenerator\n",
    "from tensorflow.keras.layers import Dense, Input, Dropout,Flatten, Conv2D\n",
    "from tensorflow.keras.layers import BatchNormalization, Activation, MaxPooling2D\n",
    "from tensorflow.keras.models import Model, Sequential\n",
    "from tensorflow.keras.optimizers import Adam\n",
    "from tensorflow.keras.callbacks import ModelCheckpoint, ReduceLROnPlateau\n",
    "from tensorflow.keras.utils import plot_model\n",
    "from IPython.display import SVG, Image"
   ]
  },
  {
   "cell_type": "code",
   "execution_count": 3,
   "metadata": {},
   "outputs": [
    {
     "name": "stdout",
     "output_type": "stream",
     "text": [
      "917 Pepper__bell___Bacterial_spot images\n",
      "1402 Pepper__bell___healthy images\n",
      "927 Potato___Early_blight images\n",
      "127 Potato___healthy images\n",
      "919 Potato___Late_blight images\n",
      "2017 Tomato_Bacterial_spot images\n",
      "919 Tomato_Early_blight images\n",
      "1494 Tomato_healthy images\n",
      "1816 Tomato_Late_blight images\n",
      "879 Tomato_Leaf_Mold images\n",
      "1682 Tomato_Septoria_leaf_spot images\n",
      "1603 Tomato_Spider_mites_Two_spotted_spider_mite images\n",
      "1307 Tomato__Target_Spot images\n",
      "308 Tomato__Tomato_mosaic_virus images\n",
      "3068 Tomato__Tomato_YellowLeaf__Curl_Virus images\n"
     ]
    }
   ],
   "source": [
    "\n",
    "# For checking out that how many images are available in the train set we can use import OS\n",
    "for types in os.listdir(\"PlantVillage/My Drive/train_set/\"):\n",
    "    print(str(len(os.listdir(\"PlantVillage/My Drive/train_set/\"+ types)))+\" \"+ types+' images')"
   ]
  },
  {
   "cell_type": "code",
   "execution_count": 4,
   "metadata": {},
   "outputs": [
    {
     "name": "stdout",
     "output_type": "stream",
     "text": [
      "Found 19384 images belonging to 15 classes.\n",
      "Found 1254 images belonging to 15 classes.\n"
     ]
    }
   ],
   "source": [
    "\n",
    "# Complete Dataset images can be loaded using ImageDataGenerator function\n",
    "img_size=48\n",
    "batch_size=64\n",
    "datagen_train=ImageDataGenerator(horizontal_flip=True)\n",
    "train_generator=datagen_train.flow_from_directory(\"PlantVillage/My Drive/train_set\",\n",
    "target_size=(img_size,img_size),\n",
    "batch_size=batch_size,\n",
    "class_mode='categorical',\n",
    "shuffle=True)\n",
    "\n",
    "datagen_test=ImageDataGenerator(horizontal_flip=True)\n",
    "validation_generator=datagen_test.flow_from_directory(\"PlantVillage/My Drive/test_data\",\n",
    "target_size=(img_size,img_size),\n",
    "batch_size=batch_size,\n",
    "class_mode='categorical',\n",
    "shuffle=True)"
   ]
  },
  {
   "cell_type": "code",
   "execution_count": 5,
   "metadata": {},
   "outputs": [
    {
     "name": "stdout",
     "output_type": "stream",
     "text": [
      "WARNING:tensorflow:From C:\\Users\\ASUS\\anaconda3\\lib\\site-packages\\tensorflow\\python\\ops\\init_ops.py:1251: calling VarianceScaling.__init__ (from tensorflow.python.ops.init_ops) with dtype is deprecated and will be removed in a future version.\n",
      "Instructions for updating:\n",
      "Call initializer instance with the dtype argument instead of passing it to the constructor\n"
     ]
    }
   ],
   "source": [
    "detection=Sequential()\n",
    "\n",
    "#1 -convolutional layer-1\n",
    "detection.add(Conv2D(64,(3,3),padding='same',input_shape=(48,48,3)))\n",
    "detection.add(BatchNormalization())\n",
    "detection.add(Activation('relu'))\n",
    "detection.add(MaxPooling2D(pool_size=(2,2)))\n",
    "detection.add(Dropout(0.25))\n",
    "\n",
    "#2 -convolutional layer-2\n",
    "detection.add(Conv2D(128,(5,5),padding='same'))\n",
    "detection.add(BatchNormalization())\n",
    "detection.add(Activation('relu'))\n",
    "detection.add(MaxPooling2D(pool_size=(2,2)))\n",
    "detection.add(Dropout(0.25))\n",
    "\n",
    "#3 -convolutional layer-3\n",
    "detection.add(Conv2D(512,(3,3),padding='same'))\n",
    "detection.add(BatchNormalization())\n",
    "detection.add(Activation('relu'))\n",
    "detection.add(MaxPooling2D(pool_size=(2,2)))\n",
    "detection.add(Dropout(0.25))\n",
    "\n",
    "#4 -convolutional layer-4\n",
    "detection.add(Conv2D(1024,(3,3),padding='same'))\n",
    "detection.add(BatchNormalization())\n",
    "detection.add(Activation('relu'))\n",
    "detection.add(MaxPooling2D(pool_size=(2,2)))\n",
    "detection.add(Dropout(0.25))\n",
    "\n",
    "detection.add(Flatten())\n",
    "detection.add(Dense(256))\n",
    "detection.add(BatchNormalization())\n",
    "detection.add(Activation('relu'))\n",
    "detection.add(Dropout(0.25))\n",
    "\n",
    "detection.add(Dense(512))\n",
    "detection.add(BatchNormalization())\n",
    "detection.add(Activation('relu'))\n",
    "detection.add(Dropout(0.25))\n",
    "\n",
    "detection.add(Dense(15,activation='softmax'))\n",
    "optimum=Adam(lr=0.005)\n",
    "detection.compile(optimizer=optimum,loss='categorical_crossentropy',metrics=['accuracy'])"
   ]
  },
  {
   "cell_type": "code",
   "execution_count": 6,
   "metadata": {},
   "outputs": [
    {
     "name": "stdout",
     "output_type": "stream",
     "text": [
      "Model: \"sequential\"\n",
      "_________________________________________________________________\n",
      "Layer (type)                 Output Shape              Param #   \n",
      "=================================================================\n",
      "conv2d (Conv2D)              (None, 48, 48, 64)        1792      \n",
      "_________________________________________________________________\n",
      "batch_normalization (BatchNo (None, 48, 48, 64)        256       \n",
      "_________________________________________________________________\n",
      "activation (Activation)      (None, 48, 48, 64)        0         \n",
      "_________________________________________________________________\n",
      "max_pooling2d (MaxPooling2D) (None, 24, 24, 64)        0         \n",
      "_________________________________________________________________\n",
      "dropout (Dropout)            (None, 24, 24, 64)        0         \n",
      "_________________________________________________________________\n",
      "conv2d_1 (Conv2D)            (None, 24, 24, 128)       204928    \n",
      "_________________________________________________________________\n",
      "batch_normalization_1 (Batch (None, 24, 24, 128)       512       \n",
      "_________________________________________________________________\n",
      "activation_1 (Activation)    (None, 24, 24, 128)       0         \n",
      "_________________________________________________________________\n",
      "max_pooling2d_1 (MaxPooling2 (None, 12, 12, 128)       0         \n",
      "_________________________________________________________________\n",
      "dropout_1 (Dropout)          (None, 12, 12, 128)       0         \n",
      "_________________________________________________________________\n",
      "conv2d_2 (Conv2D)            (None, 12, 12, 512)       590336    \n",
      "_________________________________________________________________\n",
      "batch_normalization_2 (Batch (None, 12, 12, 512)       2048      \n",
      "_________________________________________________________________\n",
      "activation_2 (Activation)    (None, 12, 12, 512)       0         \n",
      "_________________________________________________________________\n",
      "max_pooling2d_2 (MaxPooling2 (None, 6, 6, 512)         0         \n",
      "_________________________________________________________________\n",
      "dropout_2 (Dropout)          (None, 6, 6, 512)         0         \n",
      "_________________________________________________________________\n",
      "conv2d_3 (Conv2D)            (None, 6, 6, 1024)        4719616   \n",
      "_________________________________________________________________\n",
      "batch_normalization_3 (Batch (None, 6, 6, 1024)        4096      \n",
      "_________________________________________________________________\n",
      "activation_3 (Activation)    (None, 6, 6, 1024)        0         \n",
      "_________________________________________________________________\n",
      "max_pooling2d_3 (MaxPooling2 (None, 3, 3, 1024)        0         \n",
      "_________________________________________________________________\n",
      "dropout_3 (Dropout)          (None, 3, 3, 1024)        0         \n",
      "_________________________________________________________________\n",
      "flatten (Flatten)            (None, 9216)              0         \n",
      "_________________________________________________________________\n",
      "dense (Dense)                (None, 256)               2359552   \n",
      "_________________________________________________________________\n",
      "batch_normalization_4 (Batch (None, 256)               1024      \n",
      "_________________________________________________________________\n",
      "activation_4 (Activation)    (None, 256)               0         \n",
      "_________________________________________________________________\n",
      "dropout_4 (Dropout)          (None, 256)               0         \n",
      "_________________________________________________________________\n",
      "dense_1 (Dense)              (None, 512)               131584    \n",
      "_________________________________________________________________\n",
      "batch_normalization_5 (Batch (None, 512)               2048      \n",
      "_________________________________________________________________\n",
      "activation_5 (Activation)    (None, 512)               0         \n",
      "_________________________________________________________________\n",
      "dropout_5 (Dropout)          (None, 512)               0         \n",
      "_________________________________________________________________\n",
      "dense_2 (Dense)              (None, 15)                7695      \n",
      "=================================================================\n",
      "Total params: 8,025,487\n",
      "Trainable params: 8,020,495\n",
      "Non-trainable params: 4,992\n",
      "_________________________________________________________________\n"
     ]
    }
   ],
   "source": [
    "detection.summary()"
   ]
  },
  {
   "cell_type": "code",
   "execution_count": 7,
   "metadata": {},
   "outputs": [
    {
     "name": "stdout",
     "output_type": "stream",
     "text": [
      "Epoch 1/15\n",
      "302/302 [==============================] - 1382s 5s/step - loss: 0.9326 - acc: 0.6925 - val_loss: 7.4230 - val_acc: 0.2804\n",
      "Epoch 2/15\n",
      "302/302 [==============================] - 1150s 4s/step - loss: 0.5053 - acc: 0.8310 - val_loss: 7.5591 - val_acc: 0.1933\n",
      "Epoch 3/15\n",
      "302/302 [==============================] - 1058s 4s/step - loss: 0.3928 - acc: 0.8667 - val_loss: 3.3730 - val_acc: 0.4317\n",
      "Epoch 4/15\n",
      "302/302 [==============================] - 1250s 4s/step - loss: 0.3095 - acc: 0.8952 - val_loss: 0.4983 - val_acc: 0.8306\n",
      "Epoch 5/15\n",
      "302/302 [==============================] - 1235s 4s/step - loss: 0.2486 - acc: 0.9170 - val_loss: 0.8202 - val_acc: 0.7574\n",
      "Epoch 6/15\n",
      "302/302 [==============================] - 1018s 3s/step - loss: 0.2299 - acc: 0.9227 - val_loss: 1.6029 - val_acc: 0.6028\n",
      "Epoch 7/15\n",
      "302/302 [==============================] - 1227s 4s/step - loss: 0.1999 - acc: 0.9313 - val_loss: 0.7951 - val_acc: 0.7788\n",
      "Epoch 8/15\n",
      "302/302 [==============================] - 1271s 4s/step - loss: 0.1680 - acc: 0.9427 - val_loss: 0.4315 - val_acc: 0.8651\n",
      "Epoch 9/15\n",
      "302/302 [==============================] - 1290s 4s/step - loss: 0.1666 - acc: 0.9422 - val_loss: 0.6000 - val_acc: 0.8487\n",
      "Epoch 10/15\n",
      "302/302 [==============================] - 1085s 4s/step - loss: 0.1503 - acc: 0.9488 - val_loss: 1.2814 - val_acc: 0.7237\n",
      "Epoch 11/15\n",
      "302/302 [==============================] - 1135s 4s/step - loss: 0.1377 - acc: 0.9542 - val_loss: 2.5503 - val_acc: 0.6012\n",
      "Epoch 12/15\n",
      "302/302 [==============================] - 1167s 4s/step - loss: 0.1435 - acc: 0.9540 - val_loss: 0.5165 - val_acc: 0.8528\n",
      "Epoch 13/15\n",
      "302/302 [==============================] - 1071s 4s/step - loss: 0.1225 - acc: 0.9580 - val_loss: 3.1499 - val_acc: 0.4268\n",
      "Epoch 14/15\n",
      "302/302 [==============================] - 1215s 4s/step - loss: 0.1293 - acc: 0.9570 - val_loss: 1.0263 - val_acc: 0.7344\n",
      "Epoch 15/15\n",
      "302/302 [==============================] - 1145s 4s/step - loss: 0.1093 - acc: 0.9637 - val_loss: 0.2386 - val_acc: 0.9350\n"
     ]
    }
   ],
   "source": [
    "ephocs=15\n",
    "steps_per_epoch=train_generator.n//train_generator.batch_size\n",
    "steps_per_epoch\n",
    "validation_steps=validation_generator.n//validation_generator.batch_size\n",
    "validation_steps\n",
    "detection.fit(x=train_generator,\n",
    "                    steps_per_epoch=steps_per_epoch,\n",
    "                    epochs=ephocs,\n",
    "                    validation_data=validation_generator,\n",
    "                    validation_steps=validation_steps)\n",
    "detection.save('auto_chloro_model.h5')"
   ]
  },
  {
   "cell_type": "code",
   "execution_count": 8,
   "metadata": {},
   "outputs": [
    {
     "data": {
      "text/plain": [
       "'Tomato_Bacterial_spot'"
      ]
     },
     "execution_count": 8,
     "metadata": {},
     "output_type": "execute_result"
    },
    {
     "data": {
      "image/png": "[encoded data removed]",
      "text/plain": [
       "<Figure size 432x288 with 1 Axes>"
      ]
     },
     "metadata": {
      "needs_background": "light"
     },
     "output_type": "display_data"
    }
   ],
   "source": [
    "from tensorflow.keras.preprocessing import image\n",
    "from tensorflow.keras.models import load_model\n",
    "\n",
    "test_img=image.load_img(\"tbs.JPG\",target_size=(48,48))\n",
    "plt.imshow(test_img)\n",
    "test_img=image.img_to_array(test_img)\n",
    "test_img=np.expand_dims(test_img,axis=0)\n",
    "result=detection.predict(test_img)\n",
    "a=result.argmax()\n",
    "classes=train_generator.class_indices\n",
    "category=[]\n",
    "for i in classes:\n",
    "          category.append(i)\n",
    "for i in range(len(classes)):\n",
    "           if(i==a):\n",
    "                output=category[i]\n",
    "output  "
   ]
  },
  {
   "cell_type": "code",
   "execution_count": null,
   "metadata": {},
   "outputs": [],
   "source": []
  }
 ],
 "metadata": {
  "kernelspec": {
   "display_name": "Python 3",
   "language": "python",
   "name": "python3"
  },
  "language_info": {
   "codemirror_mode": {
    "name": "ipython",
    "version": 3
   },
   "file_extension": ".py",
   "mimetype": "text/x-python",
   "name": "python",
   "nbconvert_exporter": "python",
   "pygments_lexer": "ipython3",
   "version": "3.7.6"
  }
 },
 "nbformat": 4,
 "nbformat_minor": 4
}
